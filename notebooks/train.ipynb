{
 "cells": [
  {
   "cell_type": "markdown",
   "id": "e854ace9",
   "metadata": {
    "vscode": {
     "languageId": "plaintext"
    }
   },
   "source": [
    "### Installing dependencies"
   ]
  },
  {
   "cell_type": "code",
   "execution_count": null,
   "id": "4b3e0ca4",
   "metadata": {
    "vscode": {
     "languageId": "plaintext"
    }
   },
   "outputs": [],
   "source": [
    "pip install opencv-python ultralytics"
   ]
  },
  {
   "cell_type": "markdown",
   "id": "a190a8e0",
   "metadata": {},
   "source": [
    "### Train Model using YOLOv8"
   ]
  },
  {
   "cell_type": "code",
   "execution_count": null,
   "id": "e49883f7",
   "metadata": {
    "vscode": {
     "languageId": "plaintext"
    }
   },
   "outputs": [],
   "source": [
    "!yolo task=detect mode=train data=data/dataset/data.yaml model=yolov8s.pt epochs=50 imgsz=640"
   ]
  }
 ],
 "metadata": {
  "language_info": {
   "name": "python"
  }
 },
 "nbformat": 4,
 "nbformat_minor": 5
}
